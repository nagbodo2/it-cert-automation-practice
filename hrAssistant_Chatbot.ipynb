{
  "nbformat": 4,
  "nbformat_minor": 0,
  "metadata": {
    "colab": {
      "provenance": [],
      "authorship_tag": "ABX9TyOs6oxAcmVowuw8bZhXE77Y",
      "include_colab_link": true
    },
    "kernelspec": {
      "name": "python3",
      "display_name": "Python 3"
    },
    "language_info": {
      "name": "python"
    }
  },
  "cells": [
    {
      "cell_type": "markdown",
      "metadata": {
        "id": "view-in-github",
        "colab_type": "text"
      },
      "source": [
        "<a href=\"https://colab.research.google.com/github/nagbodo2/it-cert-automation-practice/blob/master/hrAssistant_Chatbot.ipynb\" target=\"_parent\"><img src=\"https://colab.research.google.com/assets/colab-badge.svg\" alt=\"Open In Colab\"/></a>"
      ]
    },
    {
      "cell_type": "code",
      "execution_count": null,
      "metadata": {
        "id": "hjywlCkYEUH1"
      },
      "outputs": [],
      "source": [
        "!pip install openai==0.28\n",
        "!pip install pdfplumber\n",
        "!pip install gradio==4.44.1\n",
        "import openai\n",
        "import gradio as gr\n",
        "import pdfplumber"
      ]
    },
    {
      "cell_type": "code",
      "source": [
        "# Setting OpenAI API key\n",
        "openai.api_key = 'You api key here'\n",
        "\n",
        "# Function to extract text from the company's policy document PDFs\n",
        "def extract_text_from_pdf(pdf_path):\n",
        "    all_text = \"\"\n",
        "    with pdfplumber.open(pdf_path) as pdf:\n",
        "        for page in pdf.pages:\n",
        "            all_text += page.extract_text()\n",
        "    return all_text\n"
      ],
      "metadata": {
        "id": "jLgXxJL-EvkE"
      },
      "execution_count": 2,
      "outputs": []
    },
    {
      "cell_type": "code",
      "source": [
        "\n",
        "# Loading the policy document once during initialization\n",
        "policy_pdf_path = \"your file path here\"\n",
        "policy_text = extract_text_from_pdf(policy_pdf_path)"
      ],
      "metadata": {
        "id": "s-CSy7CIFEPs"
      },
      "execution_count": 3,
      "outputs": []
    },
    {
      "cell_type": "code",
      "source": [
        "print(policy_text[0:250])"
      ],
      "metadata": {
        "id": "9PXYb1oRHvAa"
      },
      "execution_count": null,
      "outputs": []
    },
    {
      "cell_type": "code",
      "source": [
        "# Function to handle user queries and search for relevant content from the policy document\n",
        "def hr_assistant(query):\n",
        "    # If query is found directly in the policy document\n",
        "    if query.lower() in policy_text.lower():\n",
        "        start_idx = policy_text.lower().find(query.lower())\n",
        "        end_idx = start_idx + 1000  # Taking a snippet of text around the query\n",
        "        response_text = policy_text[start_idx:end_idx]\n",
        "    else:\n",
        "        # If query isn't directly found in the policy text, ask GPT to generate a response\n",
        "        # Updated to use a supported model such as 'text-davinci-002' or 'gpt-3.5-turbo'\n",
        "        response = openai.ChatCompletion.create(\n",
        "            model=\"gpt-3.5-turbo\",\n",
        "            messages=[\n",
        "                {\"role\": \"system\", \"content\": f\"Provide an answer based on the following policy information:\\n\\n{policy_text}\"},\n",
        "                {\"role\": \"user\", \"content\": query}\n",
        "            ],\n",
        "            max_tokens=250,\n",
        "            temperature=0.7,\n",
        "        )\n",
        "        response_text = response.choices[0].message.content.strip()  # Accessing the response text\n",
        "\n",
        "    return response_text"
      ],
      "metadata": {
        "id": "ofZ4ckZMFSyv"
      },
      "execution_count": 5,
      "outputs": []
    },
    {
      "cell_type": "code",
      "source": [
        "# Testing the prompt\n",
        "print(hr_assistant(\"What is the policy about?\"))"
      ],
      "metadata": {
        "id": "__RB7oIpJTuJ"
      },
      "execution_count": null,
      "outputs": []
    },
    {
      "cell_type": "code",
      "source": [
        "# Create a Gradio interface for the HR chatbot\n",
        "iface = gr.Interface(\n",
        "    fn=hr_assistant,\n",
        "    inputs=\"text\",\n",
        "    outputs=\"text\",\n",
        "    title=\"HR Assistant Chatbot\",\n",
        "    description=\"Ask HR-related questions. The assistant will extract answers from the company's policy documents.\"\n",
        ")\n",
        "\n",
        "# Launch the Gradio interface\n",
        "iface.launch(share=True)"
      ],
      "metadata": {
        "colab": {
          "base_uri": "https://localhost:8080/",
          "height": 611
        },
        "id": "6dxCt8_UFbRQ",
        "outputId": "7341519e-4b4b-4872-f53d-e638eb9a91f8"
      },
      "execution_count": 6,
      "outputs": [
        {
          "output_type": "stream",
          "name": "stdout",
          "text": [
            "Colab notebook detected. To show errors in colab notebook, set debug=True in launch()\n",
            "Running on public URL: https://5480ce6c810636b1de.gradio.live\n",
            "\n",
            "This share link expires in 72 hours. For free permanent hosting and GPU upgrades, run `gradio deploy` from Terminal to deploy to Spaces (https://huggingface.co/spaces)\n"
          ]
        },
        {
          "output_type": "display_data",
          "data": {
            "text/plain": [
              "<IPython.core.display.HTML object>"
            ],
            "text/html": [
              "<div><iframe src=\"https://5480ce6c810636b1de.gradio.live\" width=\"100%\" height=\"500\" allow=\"autoplay; camera; microphone; clipboard-read; clipboard-write;\" frameborder=\"0\" allowfullscreen></iframe></div>"
            ]
          },
          "metadata": {}
        },
        {
          "output_type": "execute_result",
          "data": {
            "text/plain": []
          },
          "metadata": {},
          "execution_count": 6
        }
      ]
    }
  ]
}